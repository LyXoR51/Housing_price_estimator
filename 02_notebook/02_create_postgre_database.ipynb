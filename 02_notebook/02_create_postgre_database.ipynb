{
 "cells": [
  {
   "cell_type": "markdown",
   "id": "91f05994",
   "metadata": {},
   "source": [
    "# 1) Libraries\n",
    "---"
   ]
  },
  {
   "cell_type": "code",
   "execution_count": null,
   "id": "bc6908d6",
   "metadata": {},
   "outputs": [],
   "source": [
    "from sqlalchemy import create_engine, Table, Column, Integer, MetaData, Float\n",
    "from dotenv import load_dotenv\n",
    "import pandas as pd\n",
    "import os\n",
    "\n",
    "load_dotenv()"
   ]
  },
  {
   "cell_type": "markdown",
   "id": "0fb8fd76",
   "metadata": {},
   "source": [
    "# 2) Create table\n",
    "---"
   ]
  },
  {
   "cell_type": "code",
   "execution_count": null,
   "id": "19e211bb",
   "metadata": {},
   "outputs": [],
   "source": [
    "# Start engine\n",
    "postgres_database = os.environ[\"POSTGRES_DATABASE\"]\n",
    "engine = create_engine(postgres_database, echo=True)\n",
    "\n",
    "# create table\n",
    "metadata = MetaData()\n",
    "table_name = 'housing_prices'\n",
    "\n",
    "my_table = Table(\n",
    "    table_name, metadata,\n",
    "    Column('id', Integer, primary_key=True),\n",
    "    Column('square_feet', Float),\n",
    "    Column('num_bedrooms', Integer),\n",
    "    Column('num_bathrooms', Integer),\n",
    "    Column('num_floors', Integer),\n",
    "    Column('year_built', Integer),\n",
    "    Column('has_garden', Integer),\n",
    "    Column('has_pool', Integer),\n",
    "    Column('garage_size', Integer),\n",
    "    Column('location_score', Float),\n",
    "    Column('distance_to_center', Float),\n",
    "    Column('price', Float),\n",
    "    Column('price_predict', Float),\n",
    "\n",
    ")\n",
    "\n",
    "#run the engine\n",
    "metadata.create_all(engine)"
   ]
  }
 ],
 "metadata": {
  "kernelspec": {
   "display_name": "DataScience",
   "language": "python",
   "name": "python3"
  },
  "language_info": {
   "codemirror_mode": {
    "name": "ipython",
    "version": 3
   },
   "file_extension": ".py",
   "mimetype": "text/x-python",
   "name": "python",
   "nbconvert_exporter": "python",
   "pygments_lexer": "ipython3",
   "version": "3.12.9"
  }
 },
 "nbformat": 4,
 "nbformat_minor": 5
}
